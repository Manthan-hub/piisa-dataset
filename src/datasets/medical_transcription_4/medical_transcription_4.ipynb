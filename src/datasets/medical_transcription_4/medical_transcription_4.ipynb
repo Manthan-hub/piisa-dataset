{
  "nbformat": 4,
  "nbformat_minor": 0,
  "metadata": {
    "colab": {
      "provenance": []
    },
    "kernelspec": {
      "name": "python3",
      "display_name": "Python 3"
    },
    "language_info": {
      "name": "python"
    }
  },
  "cells": [
    {
      "cell_type": "code",
      "execution_count": 9,
      "metadata": {
        "colab": {
          "base_uri": "https://localhost:8080/"
        },
        "id": "MqQrFkfRLp63",
        "outputId": "cb1ed8a7-eb8d-4e9b-8237-3a175bf717da"
      },
      "outputs": [
        {
          "output_type": "stream",
          "name": "stdout",
          "text": [
            "Requirement already satisfied: datasets in /usr/local/lib/python3.10/dist-packages (3.1.0)\n",
            "Requirement already satisfied: jsonlines in /usr/local/lib/python3.10/dist-packages (4.0.0)\n",
            "Requirement already satisfied: filelock in /usr/local/lib/python3.10/dist-packages (from datasets) (3.16.1)\n",
            "Requirement already satisfied: numpy>=1.17 in /usr/local/lib/python3.10/dist-packages (from datasets) (1.26.4)\n",
            "Requirement already satisfied: pyarrow>=15.0.0 in /usr/local/lib/python3.10/dist-packages (from datasets) (17.0.0)\n",
            "Requirement already satisfied: dill<0.3.9,>=0.3.0 in /usr/local/lib/python3.10/dist-packages (from datasets) (0.3.8)\n",
            "Requirement already satisfied: pandas in /usr/local/lib/python3.10/dist-packages (from datasets) (2.2.2)\n",
            "Requirement already satisfied: requests>=2.32.2 in /usr/local/lib/python3.10/dist-packages (from datasets) (2.32.3)\n",
            "Requirement already satisfied: tqdm>=4.66.3 in /usr/local/lib/python3.10/dist-packages (from datasets) (4.66.6)\n",
            "Requirement already satisfied: xxhash in /usr/local/lib/python3.10/dist-packages (from datasets) (3.5.0)\n",
            "Requirement already satisfied: multiprocess<0.70.17 in /usr/local/lib/python3.10/dist-packages (from datasets) (0.70.16)\n",
            "Requirement already satisfied: fsspec<=2024.9.0,>=2023.1.0 in /usr/local/lib/python3.10/dist-packages (from fsspec[http]<=2024.9.0,>=2023.1.0->datasets) (2024.9.0)\n",
            "Requirement already satisfied: aiohttp in /usr/local/lib/python3.10/dist-packages (from datasets) (3.10.10)\n",
            "Requirement already satisfied: huggingface-hub>=0.23.0 in /usr/local/lib/python3.10/dist-packages (from datasets) (0.24.7)\n",
            "Requirement already satisfied: packaging in /usr/local/lib/python3.10/dist-packages (from datasets) (24.1)\n",
            "Requirement already satisfied: pyyaml>=5.1 in /usr/local/lib/python3.10/dist-packages (from datasets) (6.0.2)\n",
            "Requirement already satisfied: attrs>=19.2.0 in /usr/local/lib/python3.10/dist-packages (from jsonlines) (24.2.0)\n",
            "Requirement already satisfied: aiohappyeyeballs>=2.3.0 in /usr/local/lib/python3.10/dist-packages (from aiohttp->datasets) (2.4.3)\n",
            "Requirement already satisfied: aiosignal>=1.1.2 in /usr/local/lib/python3.10/dist-packages (from aiohttp->datasets) (1.3.1)\n",
            "Requirement already satisfied: frozenlist>=1.1.1 in /usr/local/lib/python3.10/dist-packages (from aiohttp->datasets) (1.5.0)\n",
            "Requirement already satisfied: multidict<7.0,>=4.5 in /usr/local/lib/python3.10/dist-packages (from aiohttp->datasets) (6.1.0)\n",
            "Requirement already satisfied: yarl<2.0,>=1.12.0 in /usr/local/lib/python3.10/dist-packages (from aiohttp->datasets) (1.17.1)\n",
            "Requirement already satisfied: async-timeout<5.0,>=4.0 in /usr/local/lib/python3.10/dist-packages (from aiohttp->datasets) (4.0.3)\n",
            "Requirement already satisfied: typing-extensions>=3.7.4.3 in /usr/local/lib/python3.10/dist-packages (from huggingface-hub>=0.23.0->datasets) (4.12.2)\n",
            "Requirement already satisfied: charset-normalizer<4,>=2 in /usr/local/lib/python3.10/dist-packages (from requests>=2.32.2->datasets) (3.4.0)\n",
            "Requirement already satisfied: idna<4,>=2.5 in /usr/local/lib/python3.10/dist-packages (from requests>=2.32.2->datasets) (3.10)\n",
            "Requirement already satisfied: urllib3<3,>=1.21.1 in /usr/local/lib/python3.10/dist-packages (from requests>=2.32.2->datasets) (2.2.3)\n",
            "Requirement already satisfied: certifi>=2017.4.17 in /usr/local/lib/python3.10/dist-packages (from requests>=2.32.2->datasets) (2024.8.30)\n",
            "Requirement already satisfied: python-dateutil>=2.8.2 in /usr/local/lib/python3.10/dist-packages (from pandas->datasets) (2.8.2)\n",
            "Requirement already satisfied: pytz>=2020.1 in /usr/local/lib/python3.10/dist-packages (from pandas->datasets) (2024.2)\n",
            "Requirement already satisfied: tzdata>=2022.7 in /usr/local/lib/python3.10/dist-packages (from pandas->datasets) (2024.2)\n",
            "Requirement already satisfied: six>=1.5 in /usr/local/lib/python3.10/dist-packages (from python-dateutil>=2.8.2->pandas->datasets) (1.16.0)\n",
            "Requirement already satisfied: propcache>=0.2.0 in /usr/local/lib/python3.10/dist-packages (from yarl<2.0,>=1.12.0->aiohttp->datasets) (0.2.0)\n"
          ]
        }
      ],
      "source": [
        "!pip install datasets jsonlines"
      ]
    },
    {
      "cell_type": "code",
      "source": [
        "from datasets import load_dataset\n",
        "import jsonlines"
      ],
      "metadata": {
        "id": "ggLDSpvqLqk6"
      },
      "execution_count": 10,
      "outputs": []
    },
    {
      "cell_type": "code",
      "source": [
        "# Load the dataset\n",
        "dataset = load_dataset(\"rungalileo/medical_transcription_4\")\n",
        "\n",
        "# Process and write to JSONL\n",
        "with jsonlines.open('medical_transcription_4.jsonl', mode='w') as writer:\n",
        "    for i, item in enumerate(dataset['train']):\n",
        "        writer.write({\n",
        "            'meta': {\n",
        "                'dataset_link': 'https://huggingface.co/datasets/rungalileo/medical_transcription_4',\n",
        "                'dataset_name': 'Medical Transcription 4',\n",
        "                'id': i\n",
        "            },\n",
        "            'text': item['text']\n",
        "        })"
      ],
      "metadata": {
        "id": "zzl2tuJ1LuIh"
      },
      "execution_count": 11,
      "outputs": []
    },
    {
      "cell_type": "code",
      "source": [
        "!ls -l *.jsonl"
      ],
      "metadata": {
        "colab": {
          "base_uri": "https://localhost:8080/"
        },
        "id": "OwVtj4r-LwjP",
        "outputId": "7aee59de-6484-4079-ebe8-301df32511e8"
      },
      "execution_count": 14,
      "outputs": [
        {
          "output_type": "stream",
          "name": "stdout",
          "text": [
            "-rw-r--r-- 1 root root 15154736 Nov 12 02:25 medical_transcription_4.jsonl\n"
          ]
        }
      ]
    },
    {
      "cell_type": "code",
      "source": [
        "!head -n 10 medical_transcription_4.jsonl"
      ],
      "metadata": {
        "colab": {
          "base_uri": "https://localhost:8080/"
        },
        "id": "PcnVhST0Lzpj",
        "outputId": "d1d27fd1-919f-47e7-c277-f648c1f4efe5"
      },
      "execution_count": 15,
      "outputs": [
        {
          "output_type": "stream",
          "name": "stdout",
          "text": [
            "{\"meta\": {\"dataset_link\": \"https://huggingface.co/datasets/rungalileo/medical_transcription_4\", \"dataset_name\": \"Medical Transcription 4\", \"id\": 0}, \"text\": \"2-D STUDY,1. Mild aortic stenosis, widely calcified, minimally restricted.,2. Mild left ventricular hypertrophy but normal systolic function.,3. Moderate biatrial enlargement.,4. Normal right ventricle.,5. Normal appearance of the tricuspid and mitral valves.,6. Normal left ventricle and left ventricular systolic function.,DOPPLER,1. There is 1 to 2+ aortic regurgitation easily seen, but no aortic stenosis.,2. Mild tricuspid regurgitation with only mild increase in right heart pressures, 30-35 mmHg maximum.,SUMMARY,1. Normal left ventricle.,2. Moderate biatrial enlargement.,3. Mild tricuspid regurgitation, but only mild increase in right heart pressures.radiology, 2-d study, doppler, tricuspid regurgitation, heart pressures, stenosis, ventricular, heart, ventricle, tricuspid, regurgitation,\"}\n",
            "{\"meta\": {\"dataset_link\": \"https://huggingface.co/datasets/rungalileo/medical_transcription_4\", \"dataset_name\": \"Medical Transcription 4\", \"id\": 1}, \"text\": \"PREOPERATIVE DIAGNOSES: , Dysphagia and esophageal spasm.,POSTOPERATIVE DIAGNOSES: , Esophagitis and esophageal stricture.,PROCEDURE:,  Gastroscopy.,MEDICATIONS:,  MAC.,DESCRIPTION OF PROCEDURE: , The Olympus gastroscope was introduced into the oropharynx and passed carefully through the esophagus, stomach, and duodenum, to the third portion of the duodenum.  The hypopharynx was normal and the upper esophageal sphincter was unremarkable.  The esophageal contour was normal, with the gastroesophageal junction located at 38 cm from the incisors.  At this point, there were several linear erosions and a sense of stricturing at 38 cm.  Below this, there was a small hiatal hernia with the hiatus noted at 42 cm from the incisors.  The mucosa within the hernia was normal.  The gastric lumen was normal with normal mucosa throughout.  The pylorus was patent permitting passage of the scope into the duodenum, which was normal through the third portion.  During withdrawal of the scope, additional views were obtained of the cardia, confirming the presence of a small hiatal hernia.  It was decided to attempt dilation of the strictured area, so an 18-mm TTS balloon was placed across the stricture and inflated to the recommended diameter.  When the balloon was fully inflated, the lumen appeared to be larger than 18 mm diameter, suggesting that the stricture was in fact not a significant one.  No stretching of the mucosa took place.  The balloon was deflated and the scope was withdrawn.  The patient tolerated the procedure well and was sent to the recovery room.,FINAL DIAGNOSES:,1.  Esophagitis.,2.  Minor stricture at the gastroesophageal junction.,3.  Hiatal hernia.,4.  Otherwise normal upper endoscopy to the transverse duodenum.,RECOMMENDATIONS:  ,Continue proton pump inhibitor therapy.surgery, duodenum, esophagus, gastroscope, stomach, upper endoscopy, transverse duodenum, gastroesophageal junction, hiatal hernia, gastroscopy, endoscopy, esophagitis, gastroesophageal, hiatal, esophageal, hernia\"}\n",
            "{\"meta\": {\"dataset_link\": \"https://huggingface.co/datasets/rungalileo/medical_transcription_4\", \"dataset_name\": \"Medical Transcription 4\", \"id\": 2}, \"text\": \"CHIEF COMPLAINT:,  The patient comes for three-week postpartum checkup, complaining of allergies.,HISTORY OF PRESENT ILLNESS:,  She is doing well postpartum.  She has had no headache.  She is breastfeeding and feels like her milk is adequate.  She has not had much bleeding.  She is using about a mini pad twice a day, not any cramping or clotting and the discharge is turned from red to brown to now slightly yellowish.  She has not yet had sexual intercourse.  She does complain that she has had a little pain with the bowel movement, and every now and then she notices a little bright red bleeding.  She has not been particularly constipated but her husband says she is not eating her vegetables like she should.  Her seasonal allergies have back developed and she is complaining of extremely itchy watery eyes, runny nose, sneezing, and kind of a pressure sensation in her ears.,MEDICATIONS:,  Prenatal vitamins.,ALLERGIES:,  She thinks to Benadryl.,FAMILY HISTORY: , Mother is 50 and healthy.  Dad is 40 and healthy.  Half-sister, age 34, is healthy.  She has a sister who is age 10 who has some yeast infections.,PHYSICAL EXAMINATION:,VITALS:  Weight:  124 pounds.  Blood pressure 96/54.  Pulse:  72.  Respirations:  16.  LMP:  10/18/03.  Age:  39.,HEENT:  Head is normocephalic.  Eyes:  EOMs intact.  PERRLA.  Conjunctiva clear.  Fundi:  Discs flat, cups normal.  No AV nicking, hemorrhage or exudate.  Ears:  TMs intact.  Mouth:  No lesion.  Throat:  No inflammation.  She has allergic rhinitis with clear nasal drainage, clear watery discharge from the eyes.,Abdomen:  Soft.  No masses.,Pelvic:  Uterus is involuting.,Rectal:  She has one external hemorrhoid which has inflamed.  Stool is guaiac negative and using anoscope, no other lesions are identified.,ASSESSMENT/PLAN:,  Satisfactory three-week postpartum course, seasonal allergies.  We will try Patanol eyedrops and Allegra 60 mg twice a day.  She was cautioned about the possibility that this may alter her milk supply.  She is to drink extra fluids and call if she has problems with that.  We will try ProctoFoam HC.  For the hemorrhoids, also increase the fiber in her diet.  That prescription was written, as well as one for Allegra and Patanol.  She additionally will be begin on Micronor because she would like to protect herself from pregnancy until her husband get scheduled in and has a vasectomy, which is their ultimate plan for birth control, and she anticipates that happening fairly soon.  She will call and return if she continues to have problems with allergies.  Meantime, rechecking in three weeks for her final six-week postpartum checkup.soap / chart / progress notes, checkup, allergies, postpartum, complaining of allergies, seasonal allergies, postpartum checkup,\"}\n",
            "{\"meta\": {\"dataset_link\": \"https://huggingface.co/datasets/rungalileo/medical_transcription_4\", \"dataset_name\": \"Medical Transcription 4\", \"id\": 3}, \"text\": \"PROCEDURE: , Bilateral L5, S1, S2, and S3 radiofrequency ablation.,INDICATION: , Sacroiliac joint pain.,INFORMED CONSENT: , The risks, benefits and alternatives of the procedure were discussed with the patient.  The patient was given opportunity to ask questions regarding the procedure, its indications and the associated risks.,The risk of the procedure discussed include infection, bleeding, allergic reaction, dural puncture, headache, nerve injuries, spinal cord injury, and cardiovascular and CNS side effects with possible of vascular entry of medications.  I also informed the patient of potential side effects or reactions to the medications potentially used during the procedure including sedatives, narcotics, nonionic contrast agents, anesthetics, and corticosteroids.,The patient was informed both verbally and in writing.  The patient understood the informed consent and desired to have the procedure performed.,PROCEDURE: , Oxygen saturation and vital signs were monitored continuously throughout the procedure.  The patient remained awake throughout the procedure in order to interact and give feedback.  The x-ray technician was supervised and instructed to operate the fluoroscopy machine.,The patient was placed in a prone position on the treatment table with a pillow under the chest and head rotated.  The skin over and surrounding the treatment area was cleaned with Betadine.  The area was covered with sterile drapes, leaving a small window opening for needle placement.  Fluoroscopy was used to identify the bony landmarks of the sacrum and the sacroiliac joints and the planned needle approach.  The skin, subcutaneous tissue, and muscle within the planned approach were anesthetized with 1% Lidocaine.,With fluoroscopy, a 20 gauge 10-mm bent Teflon coated needle was gently guided into the groove between the SAP and the sacrum for the dorsal ramus of L5 and the lateral border of the posterior sacral foramen, for the lateral branches of S1, S2, and S3.  Also, fluoroscopic views were used to ensure proper needle placement.,The following technique was used to confirm correct placement.  Motor stimulation was applied at 2 Hz with 1 millisecond duration.  No extremity movement was noted at less than 2 volts.  Following this, the needle trocar was removed and a syringe containing 1% lidocaine was attached.  At each level, after syringe aspiration with no blood return, 0.5 mL of 1% lidocaine was injected to anesthetize the lateral branch and the surrounding tissue.  After completion, a lesion was created at that level with a temperature of 80 degrees for 90 seconds.,All injected medications were preservative free.  Sterile technique was used throughout the procedure.,ADDITIONAL DETAILS:  ,None.,COMPLICATIONS: , None.,DISCUSSION: , Post-procedure vital signs and oximetry were stable.  The patient was discharged with instructions to ice the injection site as needed for 15-20 minutes as frequently as twice per hour for the next day and to avoid aggressive activities for 1 day.  The patient was told to resume all medications.  The patient was told to be in relative rest for 1 day but then could resume all normal activities.,The patient was instructed to seek immediate medical attention for shortness of breath, chest pain, fever, chills, increased pain, weakness, sensory or motor changes, or changes in bowel or bladder function.,Follow up appointment was made at PM&R Spine Clinic in approximately one to two weeks.surgery, sacroiliac joint pain, sacroiliac, teflon coated needle, fluoroscopy, needle placement, radiofrequency ablation, ablation, tissue, lidocaine, needle,\"}\n",
            "{\"meta\": {\"dataset_link\": \"https://huggingface.co/datasets/rungalileo/medical_transcription_4\", \"dataset_name\": \"Medical Transcription 4\", \"id\": 4}, \"text\": \"DISCHARGE DIAGNOSES:,1. Chronic obstructive pulmonary disease with acute hypercapnic respiratory failure.,2. Chronic atrial fibrillation with prior ablation done on Coumadin treatment.,3. Mitral stenosis.,4. Remote history of lung cancer with prior resection of the left upper lobe.,5. Anxiety and depression.,HISTORY OF PRESENT ILLNESS:, Details are present in the dictated report.,BRIEF HOSPITAL COURSE:, The patient is a 71-year-old lady who came in with increased shortness of breath of one day duration. She denied history of chest pain or fevers or cough with purulent sputum at that time. She was empirically treated with a course of antibiotics of Avelox for ten days. She also received steroids, prednisolone 60 mg, and breathing treatments with albuterol, Ipratropium and her bronchodilator therapy was also optimized with theophylline. She continued to receive Coumadin for her chronic atrial fibrillation. Her heart rate was controlled and was maintained in the 60s-70s. On the third day of admission she developed worsening respiratory failure with fatigue, and hence was required to be intubated and ventilated. She was put on mechanical ventilation from 1/29 to 2/6/06. She was extubated on 2/6 and put on BI-PAP. The pressures were gradually increased from 10 and 5 to 15 of BI-PAP and 5 of E-PAP with FIO2 of 35% at the time of transfer to Kindred. Her bronchospasm also responded to the aggressive bronchodilation and steroid therapy.,DISCHARGE MEDICATIONS:, Prednisolone 60 mg orally once daily, albuterol 2.5 mg nebulized every 4 hours, Atrovent Respules to be nebulized every 6 hours, Pulmicort 500 micrograms nebulized twice every 8 hours, Coumadin 5 mg orally once daily, magnesium oxide 200 mg orally once daily.,TRANSFER INSTRUCTIONS:, The patient is to be strictly kept on bi-level PAP of 15 I-PAP/E-PAP of 5 cm and FIO2 of 35% for most of the times during the day. She may be put on nasal cannula 2 to 3 liters per minute with an O2 saturation of 90-92% at meal times only, and that is to be limited to 1-2 hours every meal. On admission her potassium had risen slightly to 5.5, and hence her ACE inhibitor had to be discontinued. We may restart it again at a later date once her blood pressure control is better if required.discharge summary, chronic obstructive pulmonary disease, hypercapnic respiratory failure, atrial fibrillation, chronic atrial fibrillation, increased shortness of breath, shortness of breath, increased shortness, coumadin, atrial,\"}\n",
            "{\"meta\": {\"dataset_link\": \"https://huggingface.co/datasets/rungalileo/medical_transcription_4\", \"dataset_name\": \"Medical Transcription 4\", \"id\": 5}, \"text\": \"INDICATION:,  Coronary artery disease, severe aortic stenosis by echo.,PROCEDURE PERFORMED:,1.  Left heart catheterization.,2.  Right heart catheterization.,3.  Selective coronary angiography.,PROCEDURE: , The patient was explained about all the risks, benefits and alternatives to the procedure.  The patient agreed to proceed and informed consent was signed.,Both groins were prepped and draped in usual sterile fashion.  After local anesthesia with 2% lidocaine, 6-French sheath was inserted in the right femoral artery and 7-French sheath was inserted in the right femoral vein.  Then right heart cath was performed using 7-French Swan-Ganz catheter.  Catheter was placed in the pulmonary capillary wedge position.  Pulmonary capillary wedge pressure, PA pressure was obtained, cardiac output was obtained, then RV, RA pressures were obtained.  The right heart catheter _______ pulled out.  Then selective coronary angiography was performed using 6-French JL4 and 6-French 3DRC catheter.  Then attempt was made to cross the aortic valve with 6-French pigtail catheter, but it was unsuccessful.  After the procedure, catheters were pulled out, sheath was pulled out and hemostasis was obtained by manual pressure.  The patient tolerated the procedure well.  There were no complications.,HEMODYNAMICS:,1.  Cardiac output was 4.9 per liter per minute.  Pulmonary capillary wedge pressure, mean was 7, PA pressure was 20/14, RV 26/5, RA mean pressure was 5.,2.  Coronary angiography, left main is calcified _______ dense complex.,3.  LAD proximal 70% calcified stenosis present and patent stent to the mid LAD and diagonal 1 is a moderate-size vessel, has 70% stenosis.  Left circumflex has diffuse luminal irregularities.  OM1 has 70% stenosis, is a moderate-size vessel.  Right coronary is dominant and has minimal luminal irregularities.,SUMMARY: , Three-vessel coronary artery disease with aortic stenosis by echo with normal pulmonary artery systolic pressure.,RECOMMENDATION: , Aortic valve replacement with coronary artery bypass surgery.cardiovascular / pulmonary, lad proximal, femoral artery, sheath, catheter, selective coronary angiography, coronary artery disease, pulmonary capillary wedge, capillary wedge, coronary angiography, coronary artery, heart catheterization, catheterization, heart, artery, stenosis, angiography, pressure, coronary\"}\n",
            "{\"meta\": {\"dataset_link\": \"https://huggingface.co/datasets/rungalileo/medical_transcription_4\", \"dataset_name\": \"Medical Transcription 4\", \"id\": 6}, \"text\": \"SUBJECTIVE:,  The patient is a 2-year-old little girl who comes in with concerns about stuffiness, congestion and nasal drainage.  She does take Zyrtec on a fairly regular basis.  Mom is having some allergy trouble herself right now.  She does not know her colors.  She knows some of her shapes.  She speaks in sentences.  She is not showing much interest in the potty.  She is in the 80th percentile for height and weight, and still over 95th percentile for head circumference.  Mom has no other concerns.,ALLERGIES:,  Eggs and peanuts.,OBJECTIVE:,General:  Alert, very talkative little girl.,HEENT:  TMs clear and mobile.  Eyes:  PERRL.  Fundi benign.  Pharynx clear.  Mouth moist.  Nasal mucosa is pale with clear discharge.,Neck:  Supple without adenopathy.,Heart:  Regular rate and rhythm without murmur.,Lungs:  Clear.  No tachypnea, wheezing, rales or retractions.,Abdomen:  Soft and nontender without mass or organomegaly.,GU:  Normal female genitalia.  Tanner stage I.,Extremities:  No clubbing, cyanosis or edema.  Pulses 2+ and equal.,Hips:  Intact.,Neurological:  Normal.  DTRs are 2+.  Gait was normal.,Skin:  Warm and dry.  No rashes noted.,ASSESSMENT:,  Allergic rhinitis.  Otherwise healthy 2-year-old young lady.,PLAN:,  In addition to her Zyrtec, I put her on Nasonex spray one spray each nostril daily.  If this works for her, certainly she can do it through the ragweed season.  Otherwise she is doing well.  I talked about ways to improve her potty training.  She is a very good eater.  I will see her yearly or p.r.n.  Unfortunately she is not able to get the flu shot due to her egg allergy.consult - history and phy., allergic rhinitis, nasal drainage, stuffiness, congestion, drainage,\"}\n",
            "{\"meta\": {\"dataset_link\": \"https://huggingface.co/datasets/rungalileo/medical_transcription_4\", \"dataset_name\": \"Medical Transcription 4\", \"id\": 7}, \"text\": \"REASON FOR EVALUATION: , The patient is a 37-year-old white single male admitted to the hospital through the emergency room.  I had seen him the day before in my office and recommended him to go into the hospital.  He had just come from a trip to Taho in Nevada and he became homicidal while there.  He started having thoughts about killing his mother.  He became quite frightened by that thought and called me during the weekend we were able to see him on that Tuesday after talking to him.,HISTORY OF PRESENT ILLNESS: , This is a patient that has been suffering from a chronic psychotic condition now for a number of years.  He began to have symptoms when he was approximately 18 or 19 with auditory and visual hallucinations and paranoid delusions.  He was using drugs and smoking marijuana at that time has experimenting with LXV and another drugs too.  The patient has not used any drugs since age 25.  However, he has continued having intense and frequent psychotic bouts.  I have seen him now for approximately one year.  He has been quite refractory to treatment.  We tried different types of combination of medications, which have included Clozaril, Risperdal, lithium, and Depakote with partial response and usually temporary.  The patient has had starting with probably has had some temporary relief of the symptoms and they usually do not last more than a few days.  The dosages that we have used have been very high.  He has been on Clozaril 1200 mg combined with Risperdal up to 9 mg and lithium at a therapeutic level.  However, he has not responded.,He has delusions of antichrist.  He strongly believes that the dogs have a home in the neighborhood are communicating with him and criticizing him and he believes that all the people can communicate to him with telepathy including the animals.  He has paranoid delusions.  He also gets homicidal like prior to this admission.,PAST PSYCHIATRIC HISTORY:,  As mentioned before, this patient has been psychotic off and on for about 20 years now.  He has had years in which he did better on Clozaril and also his other medications.,With typical anti-psychotics, he has done well at times, but he eventually gets another psychotic bout.,PAST MEDICAL HISTORY: , He has a history of obesity and also of diabetes mellitus.  However, most recently, he has not been treated for diabetes since his last regular weight since he stopped taking Zyprexa.  The patient has chronic bronchitis.  He smokes cigarettes constantly up to 60 a day.,DRUG HISTORY:,  He stopped using drugs when he was 25.  He has got a lapse, but he was more than 10 years and he has been clean ever since then.  As mentioned before, he smokes cigarettes quite heavily and which has been a problem for his health since he also has chronic bronchitis.,PSYCHOSOCIAL STATUS: , The patient lives with his mother and has been staying with her for a few years now.  We have talked to her.  She is very supportive.  His only sister is also very supportive of him.  He has lived in the ABCD houses in the past.  He has done poorly in some of them.,MENTAL STATUS EXAMINATION:,  The patient appeared alert, oriented to time, place, and person.  His affect is flat.  He talked about auditory hallucinations, which are equivocal in nature.  He is not homicidal in the hospital as he was when he was at home.  His voice and speech are normal.  He believes in telepathy.  His memory appears intact and his intelligence is calculated as average.,INITIAL DIAGNOSES:,AXIS I:  Schizophrenia.,AXIS II:  Deferred.,AXIS III:  History of diabetes mellitus, obesity, and chronic bronchitis.,AXIS IV:  Moderate.,AXIS V:  GAF of 35 on admission.,INITIAL TREATMENT AND PLAN:,  Since, the patient has been on high dosages of medications, we will give him a holiday and a structured environment.  We will put him on benzodiazepines and make a decision anti-psychotic later.  We will make sure that he is safe and that he addresses his medical needs well.consult - history and phy., neuropsychological, gaf, schizophrenia, anti-psychotic, chronic psychotic condition, delusions, hallucination, homicidal, marijuana, psychological, psychotic, smokes cigarettes, smoking, neuropsychological evaluation, clozaril, bronchitis, axis, \"}\n",
            "{\"meta\": {\"dataset_link\": \"https://huggingface.co/datasets/rungalileo/medical_transcription_4\", \"dataset_name\": \"Medical Transcription 4\", \"id\": 8}, \"text\": \"CC:, Progressive visual loss.,HX:, 76 y/o male suddenly became anosmic following shoulder surgery 13 years prior to this presentation. He continues to be anosmic, but has also recently noted decreased vision OD. He denies any headaches, weakness, numbness, weight loss, or nasal discharge.,MEDS:, none.,PMH:, 1) Diabetes Mellitus dx 1 year ago. 2) Benign Prostatic Hypertrophy, s/p TURP. 3) Right shoulder surgery (?DJD).,FHX:, noncontributory.,SHX:, Denies history of Tobacco/ETOH/illicit drug use.,EXAM:, BP132/66 HR78 RR16 36.0C,MS: A&O to person, place, and time. No other specifics given in Neurosurgery/Otolaryngology/Neuro-ophthalmology notes.,CN: Visual acuity has declined from 20/40 to 20/400, OD; 20/30, OS. No RAPD. EOM was full and smooth and without nystagmus. Goldmann visual fields revealed a central scotoma and enlarged blind spot OD and OS (OD worse) with a normal periphery. Intraocular pressures were 15/14 (OD/OS). There was moderate pallor of the disc, OD. Facial sensation was decreased on the right side (V1 distribution).,Motor/Sensory/Coord/Station/Gait: were all unremarkable.,Reflexes: 2/2 and symmetric throughout. Plantars were flexor, bilaterally.,Gen Exam: unremarkable.,COURSE:, MRI Brain, 10/7/92, revealed: a large 6x5x6cm slightly heterogeneous, mostly isointense lesion on both T1 and T2 weighted images arising from the planum sphenoidale and olfactory groove. The mass extends approximately 3.6cm superior to the planum into both frontal regions with edema in both frontal lobes. The mass extends 2.5cm inferiorly involving the ethmoid sinuses with resultant obstruction of the sphenoid and frontal sinuses.,It also extends into the superomedial aspect of the right maxillary sinus. There is probable partial encasement of both internal carotid arteries just above the siphon. The optic nerves are difficult to visualize but there is also probable encasement of these structures as well. The mass enhances significantly with gadolinium contrast. These finds are consistent with Meningioma.,The patient underwent excision of this tumor by simultaneous bifrontal craniotomy and lateral rhinotomy following an intrasinus biopsy which confirmed the meningioma. Postoperatively, he lost visual acuity, OS, but this gradually returned to baseline. His 9/6/96 neuro-ophthalmology evaluation revealed visual acuity of 20/25-3 (OD) and 20/80-2 (OS). His visual fields continued to abnormal, but improved and stable when compared to 10/92. His anosmia never resolved.radiology, mri brain, olfactory, groove, headaches, meningioma, nasal discharge, numbness, visual loss, weakness, weight loss, visual acuity, mri, brain, isointense, sinuses, visual, \"}\n",
            "{\"meta\": {\"dataset_link\": \"https://huggingface.co/datasets/rungalileo/medical_transcription_4\", \"dataset_name\": \"Medical Transcription 4\", \"id\": 9}, \"text\": \"The patient was told that the injection may cause more pain for two to three days afterwards and if this occurred they would best be served by icing the area 15-20 minutes every 6 hours.  The patient was advised to protect the knee by limiting repetitive bending, squatting , kneeling and excessive heavy use for a week.  Also, they were asked to follow up in two weeks p.r.n.pain management, knee injection, hibistat, xylocaine, bending, epinephrine, knee joint, kneeling, needle, patella, squatting, superolateral approach, cleansed, kneeNOTE,: Thesetranscribed medical transcription sample reports and examples are provided by various users andare for reference purpose only. MTHelpLine does not certify accuracy and quality of sample reports.These transcribed medical transcription sample reports may include some uncommon or unusual formats;this would be due to the preference of the dictating physician. All names and dates have beenchanged (or removed) to keep confidentiality. Any resemblance of any type of name or date orplace or anything else to real world is purely incidental.\"}\n"
          ]
        }
      ]
    },
    {
      "cell_type": "code",
      "source": [
        "from google.colab import files\n",
        "files.download('medical_transcription_4.jsonl')"
      ],
      "metadata": {
        "id": "uvAiCMDPL4xr"
      },
      "execution_count": null,
      "outputs": []
    }
  ]
}