{
  "nbformat": 4,
  "nbformat_minor": 0,
  "metadata": {
    "colab": {
      "provenance": []
    },
    "kernelspec": {
      "name": "python3",
      "display_name": "Python 3"
    },
    "language_info": {
      "name": "python"
    }
  },
  "cells": [
    {
      "cell_type": "code",
      "execution_count": 1,
      "metadata": {
        "colab": {
          "base_uri": "https://localhost:8080/"
        },
        "id": "BxbuOcuwUsvb",
        "outputId": "aaa056cb-ac4a-41f0-c5eb-5c1aaae1836c"
      },
      "outputs": [
        {
          "output_type": "stream",
          "name": "stdout",
          "text": [
            "Requirement already satisfied: pandas in /usr/local/lib/python3.10/dist-packages (2.2.2)\n",
            "Collecting jsonlines\n",
            "  Downloading jsonlines-4.0.0-py3-none-any.whl.metadata (1.6 kB)\n",
            "Requirement already satisfied: numpy>=1.22.4 in /usr/local/lib/python3.10/dist-packages (from pandas) (1.26.4)\n",
            "Requirement already satisfied: python-dateutil>=2.8.2 in /usr/local/lib/python3.10/dist-packages (from pandas) (2.8.2)\n",
            "Requirement already satisfied: pytz>=2020.1 in /usr/local/lib/python3.10/dist-packages (from pandas) (2024.2)\n",
            "Requirement already satisfied: tzdata>=2022.7 in /usr/local/lib/python3.10/dist-packages (from pandas) (2024.2)\n",
            "Requirement already satisfied: attrs>=19.2.0 in /usr/local/lib/python3.10/dist-packages (from jsonlines) (24.2.0)\n",
            "Requirement already satisfied: six>=1.5 in /usr/local/lib/python3.10/dist-packages (from python-dateutil>=2.8.2->pandas) (1.16.0)\n",
            "Downloading jsonlines-4.0.0-py3-none-any.whl (8.7 kB)\n",
            "Installing collected packages: jsonlines\n",
            "Successfully installed jsonlines-4.0.0\n"
          ]
        }
      ],
      "source": [
        "!pip install pandas jsonlines"
      ]
    },
    {
      "cell_type": "code",
      "source": [
        "import pandas as pd\n",
        "import jsonlines\n",
        "import os\n",
        "\n",
        "!kaggle datasets download -d prasad22/healthcare-dataset\n",
        "!unzip healthcare-dataset.zip\n",
        "\n",
        "df = pd.read_csv('healthcare_dataset.csv')\n",
        "\n",
        "def process_dataset(df, dataset_name, dataset_link):\n",
        "    with jsonlines.open('healthcare_dataset.jsonl', mode='w') as writer:\n",
        "        for i, row in df.iterrows():\n",
        "            text = f\"Age: {row['Age']}\\n\" \\\n",
        "                   f\"Gender: {row['Gender']}\\n\" \\\n",
        "                   f\"Blood Type: {row['Blood Type']}\\n\" \\\n",
        "                   f\"Medical Condition: {row['Medical Condition']}\\n\" \\\n",
        "                   f\"Date of Admission: {row['Date of Admission']}\\n\" \\\n",
        "                   f\"Doctor: {row['Doctor']}\\n\" \\\n",
        "                   f\"Hospital: {row['Hospital']}\\n\" \\\n",
        "                   f\"Insurance Provider: {row['Insurance Provider']}\\n\" \\\n",
        "                   f\"Billing Amount: {row['Billing Amount']}\\n\" \\\n",
        "                   f\"Room Number: {row['Room Number']}\\n\" \\\n",
        "                   f\"Admission Type: {row['Admission Type']}\\n\" \\\n",
        "                   f\"Discharge Date: {row['Discharge Date']}\\n\" \\\n",
        "                   f\"Medication: {row['Medication']}\\n\" \\\n",
        "                   f\"Test Results: {row['Test Results']}\"\n",
        "\n",
        "            entry = {\n",
        "                'meta': {\n",
        "                    'dataset_link': dataset_link,\n",
        "                    'dataset_name': dataset_name,\n",
        "                    'id': i\n",
        "                },\n",
        "                'text': text\n",
        "            }\n",
        "            writer.write(entry)\n",
        "\n",
        "dataset_name = \"Healthcare Dataset\"\n",
        "dataset_link = \"https://www.kaggle.com/datasets/prasad22/healthcare-dataset\"\n",
        "process_dataset(df, dataset_name, dataset_link)\n",
        "\n",
        "print(\"JSONL file 'healthcare_dataset.jsonl' has been created.\")\n",
        "\n",
        "!ls -l healthcare_dataset.jsonl\n",
        "\n",
        "!head -n 20 healthcare_dataset.jsonl\n",
        "\n"
      ],
      "metadata": {
        "colab": {
          "base_uri": "https://localhost:8080/"
        },
        "id": "MywfsY5qWUCU",
        "outputId": "3e34408b-f530-4e1e-9bff-6d2269080c3d"
      },
      "execution_count": 2,
      "outputs": [
        {
          "output_type": "stream",
          "name": "stdout",
          "text": [
            "Dataset URL: https://www.kaggle.com/datasets/prasad22/healthcare-dataset\n",
            "License(s): CC0-1.0\n",
            "Downloading healthcare-dataset.zip to /content\n",
            "  0% 0.00/2.91M [00:00<?, ?B/s]\n",
            "100% 2.91M/2.91M [00:00<00:00, 67.6MB/s]\n",
            "Archive:  healthcare-dataset.zip\n",
            "  inflating: healthcare_dataset.csv  \n",
            "JSONL file 'healthcare_dataset.jsonl' has been created.\n",
            "-rw-r--r-- 1 root root 27087834 Nov 14 20:25 healthcare_dataset.jsonl\n",
            "{\"meta\": {\"dataset_link\": \"https://www.kaggle.com/datasets/prasad22/healthcare-dataset\", \"dataset_name\": \"Healthcare Dataset\", \"id\": 0}, \"text\": \"Age: 30\\nGender: Male\\nBlood Type: B-\\nMedical Condition: Cancer\\nDate of Admission: 2024-01-31\\nDoctor: Matthew Smith\\nHospital: Sons and Miller\\nInsurance Provider: Blue Cross\\nBilling Amount: 18856.281305978155\\nRoom Number: 328\\nAdmission Type: Urgent\\nDischarge Date: 2024-02-02\\nMedication: Paracetamol\\nTest Results: Normal\"}\n",
            "{\"meta\": {\"dataset_link\": \"https://www.kaggle.com/datasets/prasad22/healthcare-dataset\", \"dataset_name\": \"Healthcare Dataset\", \"id\": 1}, \"text\": \"Age: 62\\nGender: Male\\nBlood Type: A+\\nMedical Condition: Obesity\\nDate of Admission: 2019-08-20\\nDoctor: Samantha Davies\\nHospital: Kim Inc\\nInsurance Provider: Medicare\\nBilling Amount: 33643.327286577885\\nRoom Number: 265\\nAdmission Type: Emergency\\nDischarge Date: 2019-08-26\\nMedication: Ibuprofen\\nTest Results: Inconclusive\"}\n",
            "{\"meta\": {\"dataset_link\": \"https://www.kaggle.com/datasets/prasad22/healthcare-dataset\", \"dataset_name\": \"Healthcare Dataset\", \"id\": 2}, \"text\": \"Age: 76\\nGender: Female\\nBlood Type: A-\\nMedical Condition: Obesity\\nDate of Admission: 2022-09-22\\nDoctor: Tiffany Mitchell\\nHospital: Cook PLC\\nInsurance Provider: Aetna\\nBilling Amount: 27955.096078842456\\nRoom Number: 205\\nAdmission Type: Emergency\\nDischarge Date: 2022-10-07\\nMedication: Aspirin\\nTest Results: Normal\"}\n",
            "{\"meta\": {\"dataset_link\": \"https://www.kaggle.com/datasets/prasad22/healthcare-dataset\", \"dataset_name\": \"Healthcare Dataset\", \"id\": 3}, \"text\": \"Age: 28\\nGender: Female\\nBlood Type: O+\\nMedical Condition: Diabetes\\nDate of Admission: 2020-11-18\\nDoctor: Kevin Wells\\nHospital: Hernandez Rogers and Vang,\\nInsurance Provider: Medicare\\nBilling Amount: 37909.78240987528\\nRoom Number: 450\\nAdmission Type: Elective\\nDischarge Date: 2020-12-18\\nMedication: Ibuprofen\\nTest Results: Abnormal\"}\n",
            "{\"meta\": {\"dataset_link\": \"https://www.kaggle.com/datasets/prasad22/healthcare-dataset\", \"dataset_name\": \"Healthcare Dataset\", \"id\": 4}, \"text\": \"Age: 43\\nGender: Female\\nBlood Type: AB+\\nMedical Condition: Cancer\\nDate of Admission: 2022-09-19\\nDoctor: Kathleen Hanna\\nHospital: White-White\\nInsurance Provider: Aetna\\nBilling Amount: 14238.317813937623\\nRoom Number: 458\\nAdmission Type: Urgent\\nDischarge Date: 2022-10-09\\nMedication: Penicillin\\nTest Results: Abnormal\"}\n",
            "{\"meta\": {\"dataset_link\": \"https://www.kaggle.com/datasets/prasad22/healthcare-dataset\", \"dataset_name\": \"Healthcare Dataset\", \"id\": 5}, \"text\": \"Age: 36\\nGender: Male\\nBlood Type: A+\\nMedical Condition: Asthma\\nDate of Admission: 2023-12-20\\nDoctor: Taylor Newton\\nHospital: Nunez-Humphrey\\nInsurance Provider: UnitedHealthcare\\nBilling Amount: 48145.11095104189\\nRoom Number: 389\\nAdmission Type: Urgent\\nDischarge Date: 2023-12-24\\nMedication: Ibuprofen\\nTest Results: Normal\"}\n",
            "{\"meta\": {\"dataset_link\": \"https://www.kaggle.com/datasets/prasad22/healthcare-dataset\", \"dataset_name\": \"Healthcare Dataset\", \"id\": 6}, \"text\": \"Age: 21\\nGender: Female\\nBlood Type: AB-\\nMedical Condition: Diabetes\\nDate of Admission: 2020-11-03\\nDoctor: Kelly Olson\\nHospital: Group Middleton\\nInsurance Provider: Medicare\\nBilling Amount: 19580.87234486093\\nRoom Number: 389\\nAdmission Type: Emergency\\nDischarge Date: 2020-11-15\\nMedication: Paracetamol\\nTest Results: Inconclusive\"}\n",
            "{\"meta\": {\"dataset_link\": \"https://www.kaggle.com/datasets/prasad22/healthcare-dataset\", \"dataset_name\": \"Healthcare Dataset\", \"id\": 7}, \"text\": \"Age: 20\\nGender: Female\\nBlood Type: A+\\nMedical Condition: Cancer\\nDate of Admission: 2021-12-28\\nDoctor: Suzanne Thomas\\nHospital: Powell Robinson and Valdez,\\nInsurance Provider: Cigna\\nBilling Amount: 45820.46272159459\\nRoom Number: 277\\nAdmission Type: Emergency\\nDischarge Date: 2022-01-07\\nMedication: Paracetamol\\nTest Results: Inconclusive\"}\n",
            "{\"meta\": {\"dataset_link\": \"https://www.kaggle.com/datasets/prasad22/healthcare-dataset\", \"dataset_name\": \"Healthcare Dataset\", \"id\": 8}, \"text\": \"Age: 82\\nGender: Male\\nBlood Type: AB+\\nMedical Condition: Asthma\\nDate of Admission: 2020-07-01\\nDoctor: Daniel Ferguson\\nHospital: Sons Rich and\\nInsurance Provider: Cigna\\nBilling Amount: 50119.222791548505\\nRoom Number: 316\\nAdmission Type: Elective\\nDischarge Date: 2020-07-14\\nMedication: Aspirin\\nTest Results: Abnormal\"}\n",
            "{\"meta\": {\"dataset_link\": \"https://www.kaggle.com/datasets/prasad22/healthcare-dataset\", \"dataset_name\": \"Healthcare Dataset\", \"id\": 9}, \"text\": \"Age: 58\\nGender: Female\\nBlood Type: AB-\\nMedical Condition: Cancer\\nDate of Admission: 2021-05-23\\nDoctor: Heather Day\\nHospital: Padilla-Walker\\nInsurance Provider: UnitedHealthcare\\nBilling Amount: 19784.63106221073\\nRoom Number: 249\\nAdmission Type: Elective\\nDischarge Date: 2021-06-22\\nMedication: Paracetamol\\nTest Results: Inconclusive\"}\n",
            "{\"meta\": {\"dataset_link\": \"https://www.kaggle.com/datasets/prasad22/healthcare-dataset\", \"dataset_name\": \"Healthcare Dataset\", \"id\": 10}, \"text\": \"Age: 72\\nGender: Male\\nBlood Type: O+\\nMedical Condition: Cancer\\nDate of Admission: 2020-04-19\\nDoctor: John Duncan\\nHospital: Schaefer-Porter\\nInsurance Provider: Medicare\\nBilling Amount: 12576.795609050234\\nRoom Number: 394\\nAdmission Type: Urgent\\nDischarge Date: 2020-04-22\\nMedication: Paracetamol\\nTest Results: Normal\"}\n",
            "{\"meta\": {\"dataset_link\": \"https://www.kaggle.com/datasets/prasad22/healthcare-dataset\", \"dataset_name\": \"Healthcare Dataset\", \"id\": 11}, \"text\": \"Age: 38\\nGender: Female\\nBlood Type: A-\\nMedical Condition: Hypertension\\nDate of Admission: 2023-08-13\\nDoctor: Douglas Mayo\\nHospital: Lyons-Blair\\nInsurance Provider: Medicare\\nBilling Amount: 7999.586879604188\\nRoom Number: 288\\nAdmission Type: Urgent\\nDischarge Date: 2023-09-05\\nMedication: Lipitor\\nTest Results: Inconclusive\"}\n",
            "{\"meta\": {\"dataset_link\": \"https://www.kaggle.com/datasets/prasad22/healthcare-dataset\", \"dataset_name\": \"Healthcare Dataset\", \"id\": 12}, \"text\": \"Age: 75\\nGender: Female\\nBlood Type: A+\\nMedical Condition: Diabetes\\nDate of Admission: 2019-12-12\\nDoctor: Kenneth Fletcher\\nHospital: Powers Miller, and Flores\\nInsurance Provider: Cigna\\nBilling Amount: 43282.28335770435\\nRoom Number: 134\\nAdmission Type: Emergency\\nDischarge Date: 2019-12-28\\nMedication: Penicillin\\nTest Results: Abnormal\"}\n",
            "{\"meta\": {\"dataset_link\": \"https://www.kaggle.com/datasets/prasad22/healthcare-dataset\", \"dataset_name\": \"Healthcare Dataset\", \"id\": 13}, \"text\": \"Age: 68\\nGender: Female\\nBlood Type: AB+\\nMedical Condition: Asthma\\nDate of Admission: 2020-05-22\\nDoctor: Theresa Freeman\\nHospital: Rivera-Gutierrez\\nInsurance Provider: UnitedHealthcare\\nBilling Amount: 33207.706633729606\\nRoom Number: 309\\nAdmission Type: Urgent\\nDischarge Date: 2020-06-19\\nMedication: Lipitor\\nTest Results: Normal\"}\n",
            "{\"meta\": {\"dataset_link\": \"https://www.kaggle.com/datasets/prasad22/healthcare-dataset\", \"dataset_name\": \"Healthcare Dataset\", \"id\": 14}, \"text\": \"Age: 44\\nGender: Female\\nBlood Type: AB+\\nMedical Condition: Cancer\\nDate of Admission: 2021-10-08\\nDoctor: Roberta Stewart\\nHospital: Morris-Arellano\\nInsurance Provider: UnitedHealthcare\\nBilling Amount: 40701.599227308754\\nRoom Number: 182\\nAdmission Type: Urgent\\nDischarge Date: 2021-10-13\\nMedication: Paracetamol\\nTest Results: Normal\"}\n",
            "{\"meta\": {\"dataset_link\": \"https://www.kaggle.com/datasets/prasad22/healthcare-dataset\", \"dataset_name\": \"Healthcare Dataset\", \"id\": 15}, \"text\": \"Age: 46\\nGender: Female\\nBlood Type: AB-\\nMedical Condition: Obesity\\nDate of Admission: 2023-01-01\\nDoctor: Maria Dougherty\\nHospital: Cline-Williams\\nInsurance Provider: Blue Cross\\nBilling Amount: 12263.357425021362\\nRoom Number: 465\\nAdmission Type: Elective\\nDischarge Date: 2023-01-11\\nMedication: Aspirin\\nTest Results: Inconclusive\"}\n",
            "{\"meta\": {\"dataset_link\": \"https://www.kaggle.com/datasets/prasad22/healthcare-dataset\", \"dataset_name\": \"Healthcare Dataset\", \"id\": 16}, \"text\": \"Age: 63\\nGender: Female\\nBlood Type: A+\\nMedical Condition: Arthritis\\nDate of Admission: 2020-06-23\\nDoctor: Erica Spencer\\nHospital: Cervantes-Wells\\nInsurance Provider: UnitedHealthcare\\nBilling Amount: 24499.847903736576\\nRoom Number: 114\\nAdmission Type: Elective\\nDischarge Date: 2020-07-14\\nMedication: Paracetamol\\nTest Results: Normal\"}\n",
            "{\"meta\": {\"dataset_link\": \"https://www.kaggle.com/datasets/prasad22/healthcare-dataset\", \"dataset_name\": \"Healthcare Dataset\", \"id\": 17}, \"text\": \"Age: 38\\nGender: Male\\nBlood Type: AB-\\nMedical Condition: Obesity\\nDate of Admission: 2020-03-08\\nDoctor: Justin Kim\\nHospital: Torres, and Harrison Jones\\nInsurance Provider: Cigna\\nBilling Amount: 17440.465444124675\\nRoom Number: 449\\nAdmission Type: Urgent\\nDischarge Date: 2020-04-02\\nMedication: Paracetamol\\nTest Results: Abnormal\"}\n",
            "{\"meta\": {\"dataset_link\": \"https://www.kaggle.com/datasets/prasad22/healthcare-dataset\", \"dataset_name\": \"Healthcare Dataset\", \"id\": 18}, \"text\": \"Age: 34\\nGender: Female\\nBlood Type: A-\\nMedical Condition: Hypertension\\nDate of Admission: 2021-03-04\\nDoctor: Justin Moore Jr.\\nHospital: Houston PLC\\nInsurance Provider: Blue Cross\\nBilling Amount: 18843.02301783416\\nRoom Number: 260\\nAdmission Type: Elective\\nDischarge Date: 2021-03-14\\nMedication: Aspirin\\nTest Results: Abnormal\"}\n",
            "{\"meta\": {\"dataset_link\": \"https://www.kaggle.com/datasets/prasad22/healthcare-dataset\", \"dataset_name\": \"Healthcare Dataset\", \"id\": 19}, \"text\": \"Age: 63\\nGender: Male\\nBlood Type: B+\\nMedical Condition: Asthma\\nDate of Admission: 2022-11-15\\nDoctor: Denise Galloway\\nHospital: Hammond Ltd\\nInsurance Provider: Cigna\\nBilling Amount: 23762.203579059587\\nRoom Number: 465\\nAdmission Type: Elective\\nDischarge Date: 2022-11-22\\nMedication: Penicillin\\nTest Results: Normal\"}\n"
          ]
        }
      ]
    },
    {
      "cell_type": "code",
      "source": [
        "from google.colab import files\n",
        "files.download('healthcare_dataset.jsonl')"
      ],
      "metadata": {
        "id": "bfBMluJMWVzP"
      },
      "execution_count": null,
      "outputs": []
    }
  ]
}